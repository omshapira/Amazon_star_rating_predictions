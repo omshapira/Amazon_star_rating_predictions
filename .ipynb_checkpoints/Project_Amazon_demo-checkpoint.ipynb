{
 "cells": [
  {
   "cell_type": "markdown",
   "metadata": {},
   "source": [
    "# Predicting Star Ratings Based on Amazon Review Comments of Digital Music Albums"
   ]
  },
  {
   "cell_type": "markdown",
   "metadata": {},
   "source": [
    "For this project, I will be analyzing Amazon user reviews of digital music. My goal is to predict the star-rating a user will give a product based on the review comment they give. Since the star rating prediction is only based on a text review, it serves as a proxy for building a sentiment classifier – assuming that star rating is truly representative of a review’s sentiment."
   ]
  },
  {
   "cell_type": "markdown",
   "metadata": {},
   "source": [
    "## Data Loading and Preliminary Exploration"
   ]
  },
  {
   "cell_type": "markdown",
   "metadata": {},
   "source": [
    "Import libraries for data processing"
   ]
  },
  {
   "cell_type": "code",
   "execution_count": 47,
   "metadata": {},
   "outputs": [],
   "source": [
    "import os #used to manage directories\n",
    "import json #for reading JSON file\n",
    "import pandas as pd # for data cleaning\n",
    "import nltk #used for text preprocessing\n",
    "import numpy as np #for data scrubbing\n"
   ]
  },
  {
   "cell_type": "code",
   "execution_count": 48,
   "metadata": {},
   "outputs": [],
   "source": [
    "import joblib\n",
    "\n",
    "os.chdir('C:\\My_Files\\Analytics\\Amazon_reviews\\pickles')\n",
    "nn_bow = joblib.load(\"nn_bow.pkl\")"
   ]
  },
  {
   "cell_type": "code",
   "execution_count": 49,
   "metadata": {},
   "outputs": [],
   "source": [
    "demo_data = 'This is the worst album I have ever bought. It is terrible'"
   ]
  },
  {
   "cell_type": "code",
   "execution_count": 50,
   "metadata": {},
   "outputs": [],
   "source": [
    "from nltk import word_tokenize\n",
    "token = word_tokenize(demo_data)"
   ]
  },
  {
   "cell_type": "code",
   "execution_count": 51,
   "metadata": {},
   "outputs": [
    {
     "data": {
      "text/plain": [
       "['This', 'worst', 'album', 'I', 'ever', 'bought', '.', 'It', 'terrible']"
      ]
     },
     "execution_count": 51,
     "metadata": {},
     "output_type": "execute_result"
    }
   ],
   "source": [
    "from nltk.corpus import stopwords\n",
    "\n",
    "stoplist = stopwords.words('english')\n",
    "\n",
    "def removeStopWords(tokens):\n",
    "    return [word for word in token if word not in stoplist]\n",
    "\n",
    "filtered_words = [removeStopWords(sen) for sen in token]\n",
    "\n",
    "clean_token = filtered_words #join to dataframe\n",
    "\n",
    "# sample['Text_Final'] = [' '.join(sen) for sen in filtered_words]\n",
    "# sample['tokens'] = filtered_words\n",
    "\n",
    "\n",
    "clean_token = removeStopWords(token)\n",
    "clean_token"
   ]
  },
  {
   "cell_type": "code",
   "execution_count": 52,
   "metadata": {},
   "outputs": [],
   "source": [
    "import re, string, unicodedata\n",
    "# import contractions\n",
    "import inflect\n",
    "from nltk.corpus import stopwords\n",
    "\n",
    "def remove_non_ascii(words):\n",
    "    \"\"\"Remove non-ASCII characters from list of tokenized words\"\"\"\n",
    "    new_words = []\n",
    "    for word in words:\n",
    "        new_word = unicodedata.normalize('NFKD', word).encode('ascii', 'ignore').decode('utf-8', 'ignore')\n",
    "        new_words.append(new_word)\n",
    "    return new_words\n",
    "    \n",
    "\n",
    "def to_lowercase(words):\n",
    "    \"\"\"Convert all characters to lowercase from list of tokenized words\"\"\"\n",
    "    new_words = []\n",
    "    for word in words:\n",
    "        new_word = word.lower()\n",
    "        new_words.append(new_word)\n",
    "    return new_words\n",
    "\n",
    "#remove all punctuation\n",
    "def remove_punctuation(words):\n",
    "    \"\"\"Remove punctuation from list of tokenized words\"\"\"\n",
    "    new_words = []\n",
    "    for word in words:\n",
    "        new_word = re.sub(r'[^\\w\\s]', '', word)\n",
    "        if new_word != '':\n",
    "            new_words.append(new_word)\n",
    "    return new_words\n",
    "\n",
    "def replace_numbers(words):\n",
    "    \"\"\"Replace all interger occurrences in list of tokenized words with textual representation\"\"\"\n",
    "    p = inflect.engine()\n",
    "    new_words = []\n",
    "    for word in words:\n",
    "        if word.isdigit():\n",
    "            new_word = p.number_to_words(word)\n",
    "            new_words.append(new_word)\n",
    "        else:\n",
    "            new_words.append(word)\n",
    "    return new_words\n",
    "\n",
    "\n",
    "def normalize(words):\n",
    "    words = remove_non_ascii(words)\n",
    "    words = to_lowercase(words)\n",
    "    words = remove_punctuation(words)\n",
    "    words = replace_numbers(words)\n",
    "    return words\n"
   ]
  },
  {
   "cell_type": "code",
   "execution_count": 53,
   "metadata": {},
   "outputs": [
    {
     "data": {
      "text/plain": [
       "['this', 'worst', 'album', 'i', 'ever', 'bought', 'it', 'terrible']"
      ]
     },
     "execution_count": 53,
     "metadata": {},
     "output_type": "execute_result"
    }
   ],
   "source": [
    "normalized = normalize(clean_token)\n",
    "normalized"
   ]
  },
  {
   "cell_type": "code",
   "execution_count": 54,
   "metadata": {},
   "outputs": [
    {
     "name": "stdout",
     "output_type": "stream",
     "text": [
      "  (0, 5)\t1\n",
      "  (1, 6)\t1\n",
      "  (2, 0)\t1\n",
      "  (4, 2)\t1\n",
      "  (5, 1)\t1\n",
      "  (7, 3)\t1\n",
      "  (8, 4)\t1\n"
     ]
    }
   ],
   "source": [
    "from sklearn.feature_extraction.text import CountVectorizer\n",
    "\n",
    "vectorizer = CountVectorizer()\n",
    "vectorizer.fit(clean_token)\n",
    "\n",
    "# X_train = vectorizer.transform(sentences_train)\n",
    "# X_test  = vectorizer.transform(sentences_test)\n",
    "demo = vectorizer.transform(clean_token)\n",
    "print(demo)"
   ]
  },
  {
   "cell_type": "code",
   "execution_count": 55,
   "metadata": {},
   "outputs": [
    {
     "data": {
      "text/plain": [
       "7"
      ]
     },
     "execution_count": 55,
     "metadata": {},
     "output_type": "execute_result"
    }
   ],
   "source": [
    "demo.shape[1]\n"
   ]
  },
  {
   "cell_type": "code",
   "execution_count": 44,
   "metadata": {},
   "outputs": [
    {
     "name": "stdout",
     "output_type": "stream",
     "text": [
      "Model: \"sequential_4\"\n",
      "_________________________________________________________________\n",
      "Layer (type)                 Output Shape              Param #   \n",
      "=================================================================\n",
      "dense_7 (Dense)              (None, 1)                 8         \n",
      "_________________________________________________________________\n",
      "dense_8 (Dense)              (None, 5)                 10        \n",
      "=================================================================\n",
      "Total params: 18\n",
      "Trainable params: 18\n",
      "Non-trainable params: 0\n",
      "_________________________________________________________________\n"
     ]
    }
   ],
   "source": [
    "from keras.models import Sequential\n",
    "# from keras.layers import Dense\n",
    "# from keras.layers import Dropout\n",
    "from keras import layers\n",
    "\n",
    "\n",
    "input_dim = demo.shape[1]  # Number of features\n",
    "\n",
    "\n",
    "model = Sequential()\n",
    "model.add(layers.Dense(1, input_dim=input_dim, activation='relu'))\n",
    "# model.add(layers.Dropout(0.4))\n",
    "model.add(layers.Dense(5, activation='softmax'))\n",
    "\n",
    "model.compile(loss='categorical_crossentropy', \n",
    "              optimizer='adam', \n",
    "              metrics=['accuracy'])\n",
    "\n",
    "model.summary()"
   ]
  },
  {
   "cell_type": "code",
   "execution_count": 57,
   "metadata": {},
   "outputs": [
    {
     "name": "stdout",
     "output_type": "stream",
     "text": [
      "9/9 [==============================] - 0s 3ms/step\n"
     ]
    },
    {
     "data": {
      "text/plain": [
       "array([[0.18077333, 0.25869703, 0.17318615, 0.16586444, 0.22147907],\n",
       "       [0.2       , 0.2       , 0.2       , 0.2       , 0.2       ],\n",
       "       [0.18873821, 0.23471676, 0.18387929, 0.17911066, 0.21355502],\n",
       "       [0.2       , 0.2       , 0.2       , 0.2       , 0.2       ],\n",
       "       [0.2       , 0.2       , 0.2       , 0.2       , 0.2       ],\n",
       "       [0.19146639, 0.22641207, 0.18766475, 0.18391109, 0.21054572],\n",
       "       [0.2       , 0.2       , 0.2       , 0.2       , 0.2       ],\n",
       "       [0.2       , 0.2       , 0.2       , 0.2       , 0.2       ],\n",
       "       [0.2       , 0.2       , 0.2       , 0.2       , 0.2       ]],\n",
       "      dtype=float32)"
      ]
     },
     "execution_count": 57,
     "metadata": {},
     "output_type": "execute_result"
    }
   ],
   "source": [
    "prediction_weights = model.predict(demo, batch_size = 64, verbose = 1)\n",
    "prediction_weights"
   ]
  },
  {
   "cell_type": "code",
   "execution_count": 58,
   "metadata": {},
   "outputs": [
    {
     "data": {
      "text/plain": [
       "array([1, 0, 1, 0, 0, 1, 0, 0, 0], dtype=int64)"
      ]
     },
     "execution_count": 58,
     "metadata": {},
     "output_type": "execute_result"
    }
   ],
   "source": [
    "y_pred = np.argmax(prediction_weights, axis = 1)\n",
    "y_pred\n"
   ]
  },
  {
   "cell_type": "code",
   "execution_count": null,
   "metadata": {},
   "outputs": [],
   "source": []
  },
  {
   "cell_type": "code",
   "execution_count": null,
   "metadata": {},
   "outputs": [],
   "source": []
  },
  {
   "cell_type": "code",
   "execution_count": null,
   "metadata": {},
   "outputs": [],
   "source": []
  },
  {
   "cell_type": "markdown",
   "metadata": {},
   "source": [
    "## Predictive Models for Star Rating"
   ]
  },
  {
   "cell_type": "markdown",
   "metadata": {},
   "source": [
    "### Bag of Words Method"
   ]
  },
  {
   "cell_type": "markdown",
   "metadata": {},
   "source": [
    "With the BOW method, a matrix of vectors is created that represents the frequency of each word. Each vector corresponds to a review, and the width of each vector is the number of all distinct words in the entire corpus across all records. "
   ]
  },
  {
   "cell_type": "markdown",
   "metadata": {},
   "source": [
    "#### Testing on SVM Model"
   ]
  },
  {
   "cell_type": "markdown",
   "metadata": {},
   "source": [
    "Split training and test data"
   ]
  },
  {
   "cell_type": "code",
   "execution_count": null,
   "metadata": {},
   "outputs": [],
   "source": [
    "print(sample['tokens'][1506350])"
   ]
  },
  {
   "cell_type": "code",
   "execution_count": null,
   "metadata": {},
   "outputs": [],
   "source": [
    "from sklearn.model_selection import train_test_split\n",
    "\n",
    "# sentences = sample['tokens'].values\n",
    "sentences = sample['tokens'].str.join(' ') ## join values into string\n",
    "y = sample['overall'].values\n",
    "# y = dummy_y\n",
    "\n",
    "sentences_train, sentences_test, y_train, y_test = train_test_split(\n",
    "   sentences, y, test_size=0.25, random_state=1000)"
   ]
  },
  {
   "cell_type": "code",
   "execution_count": null,
   "metadata": {},
   "outputs": [],
   "source": [
    "sentences_train[1506350]"
   ]
  },
  {
   "cell_type": "markdown",
   "metadata": {},
   "source": [
    "Vectorize the training and test data"
   ]
  },
  {
   "cell_type": "code",
   "execution_count": null,
   "metadata": {},
   "outputs": [],
   "source": [
    "from sklearn.feature_extraction.text import CountVectorizer\n",
    "\n",
    "vectorizer = CountVectorizer()\n",
    "vectorizer.fit(sentences_train)\n",
    "\n",
    "X_train = vectorizer.transform(sentences_train)\n",
    "X_test  = vectorizer.transform(sentences_test)\n",
    "\n"
   ]
  },
  {
   "cell_type": "markdown",
   "metadata": {},
   "source": [
    "### Testing on Neural Net"
   ]
  },
  {
   "cell_type": "markdown",
   "metadata": {},
   "source": [
    "For labeled data, encode the possible start values 1-5 into columns"
   ]
  },
  {
   "cell_type": "code",
   "execution_count": null,
   "metadata": {},
   "outputs": [],
   "source": [
    "from sklearn.preprocessing import LabelEncoder\n",
    "from keras.utils import np_utils\n",
    "\n",
    "Y = sample['overall'].values\n",
    "encoder = LabelEncoder()\n",
    "encoder.fit(Y)\n",
    "encoded_Y = encoder.transform(Y)\n",
    "dummy_y = np_utils.to_categorical(encoded_Y)\n",
    "dummy_y"
   ]
  },
  {
   "cell_type": "code",
   "execution_count": null,
   "metadata": {},
   "outputs": [],
   "source": [
    "from sklearn.preprocessing import LabelEncoder\n",
    "from keras.utils import np_utils\n",
    "\n",
    "Y = sample['overall'].values\n",
    "encoder = LabelEncoder()\n",
    "encoder.fit(Y)\n",
    "encoded_Y = encoder.transform(Y)\n",
    "dummy_y = np_utils.to_categorical(encoded_Y)\n",
    "dummy_y\n",
    "\n",
    "from sklearn.model_selection import train_test_split\n",
    "\n",
    "# sentences = sample['Text_Final'].values\n",
    "sentences = sample['tokens'].str.join(' ') ## join values into string\n",
    "#y = sample['overall'].values\n",
    "y = dummy_y # use encoded labels for y\n",
    "\n",
    "sentences_train, sentences_test, y_train, y_test = train_test_split(\n",
    "   sentences, y, test_size=0.25, random_state=1000)"
   ]
  },
  {
   "cell_type": "code",
   "execution_count": null,
   "metadata": {},
   "outputs": [],
   "source": [
    "from sklearn.feature_extraction.text import CountVectorizer\n",
    "\n",
    "vectorizer = CountVectorizer()\n",
    "vectorizer.fit(sentences_train)\n",
    "\n",
    "X_train = vectorizer.transform(sentences_train)\n",
    "X_test  = vectorizer.transform(sentences_test)\n",
    "X_train"
   ]
  },
  {
   "cell_type": "markdown",
   "metadata": {},
   "source": [
    "First, I built a sequential model"
   ]
  },
  {
   "cell_type": "code",
   "execution_count": null,
   "metadata": {},
   "outputs": [],
   "source": [
    "from keras.models import Sequential\n",
    "# from keras.layers import Dense\n",
    "# from keras.layers import Dropout\n",
    "from keras import layers\n",
    "\n",
    "\n",
    "input_dim = X_train.shape[1]  # Number of features\n",
    "\n",
    "\n",
    "model = Sequential()\n",
    "model.add(layers.Dense(10, input_dim=input_dim, activation='relu'))\n",
    "model.add(layers.Dropout(0.4))\n",
    "model.add(layers.Dense(5, activation='softmax'))\n",
    "\n",
    "model.compile(loss='categorical_crossentropy', \n",
    "              optimizer='adam', \n",
    "              metrics=['accuracy'])\n",
    "\n",
    "model.summary()"
   ]
  },
  {
   "cell_type": "markdown",
   "metadata": {},
   "source": [
    "Train Model"
   ]
  },
  {
   "cell_type": "code",
   "execution_count": null,
   "metadata": {},
   "outputs": [],
   "source": [
    "start_time = datetime.now()\n",
    "\n",
    "nn_bow = model.fit(X_train, y_train,\n",
    "epochs=20,\n",
    "verbose=False,\n",
    "validation_data=(X_test, y_test),\n",
    "batch_size = 10)\n",
    "\n",
    "end_time = datetime.now()\n",
    "print('Duration: {}'.format(end_time - start_time)) #print out how long it took for model to train"
   ]
  },
  {
   "cell_type": "markdown",
   "metadata": {},
   "source": [
    "Save as pickle"
   ]
  },
  {
   "cell_type": "code",
   "execution_count": null,
   "metadata": {},
   "outputs": [],
   "source": [
    "os.chdir('C:\\My_Files\\Analytics\\Amazon_reviews\\pickles')\n",
    "\n",
    "\n",
    "joblib.dump(nn_bow, \"nn_bow.pkl\")"
   ]
  },
  {
   "cell_type": "markdown",
   "metadata": {},
   "source": [
    "Load pickle"
   ]
  },
  {
   "cell_type": "code",
   "execution_count": null,
   "metadata": {},
   "outputs": [],
   "source": [
    "# os.chdir('C:\\My_Files\\Analytics\\Amazon_reviews\\pickles')\n",
    "# nn_bow = joblib.load(\"nn_bow.pkl\")"
   ]
  },
  {
   "cell_type": "code",
   "execution_count": null,
   "metadata": {},
   "outputs": [],
   "source": [
    "loss, accuracy = model.evaluate(X_train, y_train, verbose=False)\n",
    "print(\"Training Accuracy: {:.4f}\".format(accuracy))\n",
    "loss, accuracy = model.evaluate(X_test, y_test, verbose=False)\n",
    "print(\"Testing Accuracy:  {:.4f}\".format(accuracy))"
   ]
  },
  {
   "cell_type": "code",
   "execution_count": null,
   "metadata": {},
   "outputs": [],
   "source": [
    "import matplotlib.pyplot as plt\n",
    "plt.style.use('ggplot')\n",
    "\n",
    "def plot_history(nn_bow):\n",
    "    acc = nn_bow.history['accuracy']\n",
    "    val_acc = nn_bow.history['val_accuracy']\n",
    "    loss = nn_bow.history['loss']\n",
    "    val_loss = nn_bow.history['val_loss']\n",
    "    x = range(1, len(acc) + 1)\n",
    "\n",
    "    plt.figure(figsize=(12, 5))\n",
    "    plt.subplot(1, 2, 1)\n",
    "    plt.plot(x, acc, 'b', label='Training acc')\n",
    "    plt.plot(x, val_acc, 'r', label='Validation acc')\n",
    "    plt.title('Training and validation accuracy')\n",
    "    plt.legend()\n",
    "    plt.subplot(1, 2, 2)\n",
    "    plt.plot(x, loss, 'b', label='Training loss')\n",
    "    plt.plot(x, val_loss, 'r', label='Validation loss')\n",
    "    plt.title('Training and validation loss')\n",
    "    plt.legend()\n"
   ]
  },
  {
   "cell_type": "code",
   "execution_count": null,
   "metadata": {},
   "outputs": [],
   "source": [
    "plot_history(nn_bow)"
   ]
  },
  {
   "cell_type": "markdown",
   "metadata": {},
   "source": [
    "Alternative baseline model:https://machinelearningmastery.com/multi-class-classification-tutorial-keras-deep-learning-library/"
   ]
  },
  {
   "cell_type": "code",
   "execution_count": null,
   "metadata": {},
   "outputs": [],
   "source": [
    "loss_trn, accuracy_trn = model.evaluate(X_train, y_train, verbose=False)\n",
    "print(\"Training Accuracy: {:.4f}\".format(accuracy_trn))\n",
    "loss_test, accuracy_test = model.evaluate(X_test, y_test, verbose=False)\n",
    "print(\"Testing Accuracy:  {:.4f}\".format(accuracy_test))"
   ]
  },
  {
   "cell_type": "code",
   "execution_count": null,
   "metadata": {},
   "outputs": [],
   "source": [
    "import seaborn as sns\n",
    "# clf = SVC(kernel = 'linear').fit(x_train,y_train)\n",
    "# clf.predict(x_train)\n",
    "# y_pred = clf.predict(x_test)\n",
    "\n",
    "# Creates a confusion matrix\n",
    "cm = confusion_matrix(y_test.argmax(axis = 1), predictions.argmax(axis = 1)) \n",
    "\n",
    "# Transform to df for easier plotting\n",
    "cm_df = pd.DataFrame(cm,\n",
    "                     index = ['1', '2', '3', '4', '5'], \n",
    "                     columns = ['1', '2', '3', '4', '5'])\n",
    "\n",
    "plt.figure(figsize=(5.5,4))\n",
    "sns.heatmap(cm_df, annot=True, fmt = 'g', cmap = 'Blues')\n",
    "# plt.title('SVM Linear Kernel \\nAccuracy:{0:.3f}'.format(model.evaluate(X_test, y_test, verbose=False)))\n",
    "# plt.title(\"Training Accuracy: {:.4f}\".format(accuracy_trn) + \"\\n Testing Accuracy:  {:.4f}\".format(accuracy_test))\n",
    "plt.title(\"Neural Network\")\n",
    "plt.ylabel('True label')\n",
    "plt.xlabel('Predicted label')\n",
    "# plt.ticklabel_format(style = 'plain', axis = 'y', useOffset = False)\n",
    "plt.show()\n",
    "\n",
    "loss_trn, accuracy_trn = model.evaluate(X_train, y_train, verbose=False)\n",
    "print(\"Training Accuracy: {:.4f}\".format(accuracy_trn))\n",
    "loss_test, accuracy_test = model.evaluate(X_test, y_test, verbose=False)\n",
    "print(\"Testing Accuracy:  {:.4f}\".format(accuracy_test))"
   ]
  },
  {
   "cell_type": "markdown",
   "metadata": {},
   "source": [
    "https://datascience.stackexchange.com/questions/45165/how-to-get-accuracy-f1-precision-and-recall-for-a-keras-model"
   ]
  },
  {
   "cell_type": "code",
   "execution_count": null,
   "metadata": {},
   "outputs": [],
   "source": [
    "from keras import backend as K\n",
    "\n",
    "def recall_m(y_test, predictions):\n",
    "    true_positives = K.sum(K.round(K.clip(y_test * predictions, 0, 1)))\n",
    "    possible_positives = K.sum(K.round(K.clip(y_true, 0, 1)))\n",
    "    recall = true_positives / (possible_positives + K.epsilon())\n",
    "    return recall\n",
    "\n",
    "def precision_m(y_true, y_pred):\n",
    "    true_positives = K.sum(K.round(K.clip(y_test * predictions, 0, 1)))\n",
    "    predicted_positives = K.sum(K.round(K.clip(predictions, 0, 1)))\n",
    "    precision = true_positives / (predicted_positives + K.epsilon())\n",
    "    return precision\n",
    "\n",
    "def f1_m(y_test, predictions):\n",
    "    precision = precision_m(y_test, predictions)\n",
    "    recall = recall_m(y_test, predictions)\n",
    "    return 2*((precision*recall)/(precision+recall+K.epsilon()))"
   ]
  },
  {
   "cell_type": "code",
   "execution_count": null,
   "metadata": {},
   "outputs": [],
   "source": [
    "from sklearn.metrics import classification_report\n",
    "\n",
    "y_test_norm = y_test.argmax(axis = 1)\n",
    "y_test_norm\n",
    "\n",
    "predictions = model.predict(X_test, batch_size = 64, verbose = 1)\n",
    "y_pred = np.argmax(predictions, axis = 1)\n",
    "y_pred\n",
    "\n",
    "print(classification_report(y_test_norm, y_pred))"
   ]
  },
  {
   "cell_type": "code",
   "execution_count": null,
   "metadata": {},
   "outputs": [],
   "source": [
    "y_test.argmax(axis = 1)"
   ]
  },
  {
   "cell_type": "code",
   "execution_count": null,
   "metadata": {},
   "outputs": [],
   "source": [
    "pred_stars = predictions.argmax(axis = 1).tolist()\n",
    "pred_stars = [x+1 for x in pred_stars]\n",
    "pred_stars[0:4]"
   ]
  },
  {
   "cell_type": "code",
   "execution_count": null,
   "metadata": {},
   "outputs": [],
   "source": [
    "test_indexes = sentences_test.index\n",
    "# sample.iloc[test_indexes]\n",
    "# sample.iloc[[5441],:]"
   ]
  },
  {
   "cell_type": "code",
   "execution_count": null,
   "metadata": {},
   "outputs": [],
   "source": [
    "pd.options.display.max_colwidth = 100\n",
    "\n",
    "sample_df_test = sample.loc[test_indexes]\n",
    "sample_df_test['pred_stars'] = pred_stars\n",
    "\n",
    "sample_df_test['diff_pred'] = abs(sample_df_test['pred_stars'] - pd.to_numeric(sample_df_test.overall))\n",
    "\n",
    "sample_df_test = sample_df_test.sort_values(by = ['diff_pred'], ascending = False)\n",
    "\n",
    "sample_df_test = sample_df_test.filter(['overall', 'reviewText', 'tokens', 'pred_stars', 'diff_pred'])\n",
    "sample_df_test.head(10)"
   ]
  },
  {
   "cell_type": "code",
   "execution_count": null,
   "metadata": {},
   "outputs": [],
   "source": [
    "sample_df_test.groupby(['diff_pred']).size()"
   ]
  },
  {
   "cell_type": "code",
   "execution_count": null,
   "metadata": {},
   "outputs": [],
   "source": []
  },
  {
   "cell_type": "code",
   "execution_count": null,
   "metadata": {},
   "outputs": [],
   "source": []
  },
  {
   "cell_type": "markdown",
   "metadata": {},
   "source": [
    "## Word Embedding"
   ]
  },
  {
   "cell_type": "markdown",
   "metadata": {},
   "source": [
    "There are 3 main ways to embed: \n",
    "1. Words represented by each word as a vector\n",
    "2. Characters represented by each character as a vector\n",
    "3. N-grams of words/characters represented as a vector (N-grams are overlapping groups of multiple succeeding words/characters in the text)\n",
    "\n",
    "I will use method #1. Two ways to do this is via one-hot encoding and word embeddings."
   ]
  },
  {
   "cell_type": "markdown",
   "metadata": {},
   "source": [
    "### One-hot encoding"
   ]
  },
  {
   "cell_type": "code",
   "execution_count": null,
   "metadata": {},
   "outputs": [],
   "source": [
    "Y = sample['overall'].values\n",
    "encoder = LabelEncoder()\n",
    "encoder.fit(Y)\n",
    "star_labels = encoder.fit_transform(Y)\n",
    "star_labels"
   ]
  },
  {
   "cell_type": "code",
   "execution_count": null,
   "metadata": {},
   "outputs": [],
   "source": [
    "from sklearn.preprocessing import OneHotEncoder\n",
    "\n",
    "len_star = len(star_labels)\n",
    "\n",
    "encoder = OneHotEncoder(sparse=False)\n",
    "star_labels = star_labels.reshape((len_star, 1))\n",
    "encoder.fit_transform(star_labels)"
   ]
  },
  {
   "cell_type": "markdown",
   "metadata": {},
   "source": [
    "### Using Word Embeddings"
   ]
  },
  {
   "cell_type": "markdown",
   "metadata": {},
   "source": [
    "Use Keras' tokenizer to tokenize all words as numeric values. Using the num_words parameter does not have "
   ]
  },
  {
   "cell_type": "code",
   "execution_count": null,
   "metadata": {},
   "outputs": [],
   "source": [
    "sentences_train.iloc[2]"
   ]
  },
  {
   "cell_type": "code",
   "execution_count": null,
   "metadata": {},
   "outputs": [],
   "source": [
    "from keras.preprocessing.text import Tokenizer\n",
    "\n",
    "# tokenizer = Tokenizer(num_words = None) #don't filter on top N most common words\n",
    "tokenizer = Tokenizer(num_words = 5000) # filter on top 5000 most common words\n",
    "tokenizer.fit_on_texts(sentences_train)\n",
    "\n",
    "X_train = tokenizer.texts_to_sequences(sentences_train)\n",
    "X_test = tokenizer.texts_to_sequences(sentences_test)\n",
    "\n",
    "vocab_size = len(tokenizer.word_index)+1  #adding 1 because of reserved 0 index\n",
    "\n",
    "\n",
    "maxlen = max([len(listElem.split()) for listElem in sentences]) ##find length of review with max number of words\n",
    "\n",
    "print(sentences_train[776251]) #print sample review\n",
    "print(X_train[2]) #print word indexing of sample reiew\n",
    "len(X_train[2]) #count number of words in sample review"
   ]
  },
  {
   "cell_type": "markdown",
   "metadata": {},
   "source": [
    "Find index of sample words"
   ]
  },
  {
   "cell_type": "code",
   "execution_count": null,
   "metadata": {},
   "outputs": [],
   "source": [
    "for word in ['good', 'bad', 'terrible']:\n",
    "    print('{}: {}'.format(word, tokenizer.word_index[word]))"
   ]
  },
  {
   "cell_type": "markdown",
   "metadata": {},
   "source": [
    "Find top 10 most frequent words"
   ]
  },
  {
   "cell_type": "code",
   "execution_count": null,
   "metadata": {},
   "outputs": [],
   "source": [
    "tokens_list = list(tokenizer.word_index)\n",
    "tokens_list[0:10]"
   ]
  },
  {
   "cell_type": "markdown",
   "metadata": {},
   "source": [
    "### Padding"
   ]
  },
  {
   "cell_type": "code",
   "execution_count": null,
   "metadata": {},
   "outputs": [],
   "source": [
    "maxlen = max([len(listElem.split()) for listElem in sentences]) ##find length of review with max number of words"
   ]
  },
  {
   "cell_type": "code",
   "execution_count": null,
   "metadata": {},
   "outputs": [],
   "source": [
    "from keras.preprocessing.sequence import pad_sequences\n",
    "\n",
    "X_train = pad_sequences(X_train, padding='post', maxlen=maxlen)\n",
    "X_test = pad_sequences(X_test, padding='post', maxlen=maxlen)\n",
    "\n",
    "print(X_train[0:5, :])"
   ]
  },
  {
   "cell_type": "code",
   "execution_count": null,
   "metadata": {},
   "outputs": [],
   "source": [
    "from keras.models import Sequential\n",
    "from keras import layers\n",
    "from keras import regularizers\n",
    "\n",
    "embedding_dim = 50\n",
    "\n",
    "model = Sequential()\n",
    "model.add(layers.Embedding(input_dim=vocab_size, \n",
    "                           output_dim=embedding_dim, \n",
    "                           input_length=maxlen))\n",
    "model.add(layers.Flatten())\n",
    "# model.add(layers.Dense(10, activation='relu', kernel_regularizer=regularizers.l2(l=0.1)))\n",
    "model.add(layers.Dense(10, activation='relu'))\n",
    "model.add(layers.Dense(5, activation='softmax'))\n",
    "model.compile(optimizer='adam',\n",
    "              loss='categorical_crossentropy',\n",
    "              metrics=['accuracy'])\n",
    "model.summary()"
   ]
  },
  {
   "cell_type": "markdown",
   "metadata": {},
   "source": [
    "Check: https://github.com/tflearn/tflearn/issues/260"
   ]
  },
  {
   "cell_type": "code",
   "execution_count": null,
   "metadata": {},
   "outputs": [],
   "source": [
    "start_time = datetime.now()\n",
    "\n",
    "nn_embed = model.fit(X_train, y_train,\n",
    "                    epochs=20,\n",
    "                    verbose=False,\n",
    "                    validation_data=(X_test, y_test),\n",
    "                    batch_size=10)\n",
    "\n",
    "end_time = datetime.now()\n",
    "print('Duration: {}'.format(end_time - start_time)) #print out how long it took for model to train\n",
    "\n"
   ]
  },
  {
   "cell_type": "code",
   "execution_count": null,
   "metadata": {},
   "outputs": [],
   "source": [
    "os.chdir('C:\\My_Files\\Analytics\\Amazon_reviews\\pickles')\n",
    "\n",
    "joblib.dump(nn_embed, \"nn_embed.pkl\")"
   ]
  },
  {
   "cell_type": "code",
   "execution_count": null,
   "metadata": {},
   "outputs": [],
   "source": [
    "# os.chdir('C:\\My_Files\\Analytics\\Amazon_reviews\\pickles')\n",
    "# nn_embed = joblib.load(\"nn_embed.pkl\")"
   ]
  },
  {
   "cell_type": "code",
   "execution_count": null,
   "metadata": {},
   "outputs": [],
   "source": [
    "loss, accuracy = model.evaluate(X_train, y_train, verbose=False)\n",
    "print(\"Training Accuracy: {:.4f}\".format(accuracy))\n",
    "loss, accuracy = model.evaluate(X_test, y_test, verbose=False)\n",
    "print(\"Testing Accuracy:  {:.4f}\".format(accuracy))\n"
   ]
  },
  {
   "cell_type": "code",
   "execution_count": null,
   "metadata": {},
   "outputs": [],
   "source": [
    "plot_history(nn_embed)"
   ]
  },
  {
   "cell_type": "code",
   "execution_count": null,
   "metadata": {},
   "outputs": [],
   "source": [
    "import seaborn as sns\n",
    "# clf = SVC(kernel = 'linear').fit(x_train,y_train)\n",
    "# clf.predict(x_train)\n",
    "# y_pred = clf.predict(x_test)\n",
    "\n",
    "# Creates a confusion matrix\n",
    "cm = confusion_matrix(y_test.argmax(axis = 1), predictions.argmax(axis = 1)) \n",
    "\n",
    "# Transform to df for easier plotting\n",
    "cm_df = pd.DataFrame(cm,\n",
    "                     index = ['1', '2', '3', '4', '5'], \n",
    "                     columns = ['1', '2', '3', '4', '5'])\n",
    "\n",
    "plt.figure(figsize=(5.5,4))\n",
    "sns.heatmap(cm_df, annot=True, fmt = 'g', cmap = 'Blues')\n",
    "# plt.title('SVM Linear Kernel \\nAccuracy:{0:.3f}'.format(model.evaluate(X_test, y_test, verbose=False)))\n",
    "# plt.title(\"Training Accuracy: {:.4f}\".format(accuracy_trn) + \"\\n Testing Accuracy:  {:.4f}\".format(accuracy_test))\n",
    "plt.title(\"Neural Network with Word Embedding\")\n",
    "plt.ylabel('True label')\n",
    "plt.xlabel('Predicted label')\n",
    "# plt.ticklabel_format(style = 'plain', axis = 'y', useOffset = False)\n",
    "plt.show()\n",
    "\n",
    "loss, accuracy = model.evaluate(X_train, y_train, verbose=False)\n",
    "print(\"Training Accuracy: {:.4f}\".format(accuracy))\n",
    "loss, accuracy = model.evaluate(X_test, y_test, verbose=False)\n",
    "print(\"Testing Accuracy:  {:.4f}\".format(accuracy))\n"
   ]
  },
  {
   "cell_type": "code",
   "execution_count": null,
   "metadata": {},
   "outputs": [],
   "source": [
    "from sklearn.metrics import classification_report\n",
    "\n",
    "y_test_norm = y_test.argmax(axis = 1)\n",
    "y_test_norm\n",
    "\n",
    "predictions = model.predict(X_test, batch_size = 64, verbose = 1)\n",
    "y_pred = np.argmax(predictions, axis = 1)\n",
    "y_pred\n",
    "\n",
    "print(classification_report(y_test_norm, y_pred))"
   ]
  },
  {
   "cell_type": "code",
   "execution_count": null,
   "metadata": {},
   "outputs": [],
   "source": [
    "pred_stars = predictions.argmax(axis = 1).tolist()\n",
    "pred_stars = [x+1 for x in pred_stars]\n",
    "pred_stars[0:4]"
   ]
  },
  {
   "cell_type": "code",
   "execution_count": null,
   "metadata": {},
   "outputs": [],
   "source": [
    "test_indexes = sentences_test.index\n",
    "# sample.iloc[test_indexes]\n",
    "# sample.iloc[[5441],:]"
   ]
  },
  {
   "cell_type": "code",
   "execution_count": null,
   "metadata": {},
   "outputs": [],
   "source": [
    "pd.options.display.max_colwidth = 100\n",
    "\n",
    "sample_df_test = sample.loc[test_indexes]\n",
    "sample_df_test['pred_stars'] = pred_stars\n",
    "\n",
    "sample_df_test['diff_pred'] = abs(sample_df_test['pred_stars'] - pd.to_numeric(sample_df_test.overall))\n",
    "\n",
    "sample_df_test = sample_df_test.sort_values(by = ['diff_pred'], ascending = False)\n",
    "\n",
    "sample_df_test = sample_df_test.filter(['overall', 'reviewText', 'tokens', 'pred_stars', 'diff_pred'])\n",
    "sample_df_test.head(10)"
   ]
  },
  {
   "cell_type": "code",
   "execution_count": null,
   "metadata": {},
   "outputs": [],
   "source": [
    "sample_df_test.groupby(['diff_pred']).size()"
   ]
  },
  {
   "cell_type": "markdown",
   "metadata": {},
   "source": [
    "## CNN"
   ]
  },
  {
   "cell_type": "code",
   "execution_count": null,
   "metadata": {},
   "outputs": [],
   "source": [
    "embedding_dim = 100\n",
    "\n",
    "model = Sequential()\n",
    "model.add(layers.Embedding(vocab_size, embedding_dim, input_length=maxlen))\n",
    "model.add(layers.Conv1D(128, 2, activation='relu'))\n",
    "model.add(layers.GlobalMaxPooling1D())\n",
    "model.add(layers.Dense(10, activation='relu'))\n",
    "model.add(layers.Dense(5, activation='softmax'))\n",
    "model.compile(optimizer='adam',\n",
    "              loss='categorical_crossentropy',\n",
    "              metrics=['accuracy'])\n",
    "model.summary()"
   ]
  },
  {
   "cell_type": "code",
   "execution_count": null,
   "metadata": {},
   "outputs": [],
   "source": [
    "start_time = datetime.now()\n",
    "\n",
    "cnn_model = model.fit(X_train, y_train,\n",
    "                    epochs=20,\n",
    "                    verbose=False,\n",
    "                    validation_data=(X_test, y_test),\n",
    "                    batch_size=10)\n",
    "\n",
    "end_time = datetime.now()\n",
    "print('Duration: {}'.format(end_time - start_time)) #print out how long it took for model to train\n"
   ]
  },
  {
   "cell_type": "code",
   "execution_count": null,
   "metadata": {},
   "outputs": [],
   "source": [
    "os.chdir('C:\\My_Files\\Analytics\\Amazon_reviews\\pickles')\n",
    "\n",
    "joblib.dump(cnn_model, \"cnn_model.pkl\")"
   ]
  },
  {
   "cell_type": "code",
   "execution_count": null,
   "metadata": {},
   "outputs": [],
   "source": [
    "# os.chdir('C:\\My_Files\\Analytics\\Amazon_reviews\\pickles')\n",
    "\n",
    "# cnn_model = joblib.load(\"cnn_model.pkl\")"
   ]
  },
  {
   "cell_type": "code",
   "execution_count": null,
   "metadata": {},
   "outputs": [],
   "source": [
    "loss, accuracy = model.evaluate(X_train, y_train, verbose=False)\n",
    "print(\"Training Accuracy: {:.4f}\".format(accuracy))\n",
    "loss, accuracy = model.evaluate(X_test, y_test, verbose=False)\n",
    "print(\"Testing Accuracy:  {:.4f}\".format(accuracy))\n"
   ]
  },
  {
   "cell_type": "code",
   "execution_count": null,
   "metadata": {},
   "outputs": [],
   "source": [
    "plot_history(cnn_model)"
   ]
  },
  {
   "cell_type": "code",
   "execution_count": null,
   "metadata": {},
   "outputs": [],
   "source": [
    "y_test[1]"
   ]
  },
  {
   "cell_type": "markdown",
   "metadata": {},
   "source": [
    "https://stackoverflow.com/questions/50920908/get-confusion-matrix-from-a-keras-multiclass-model"
   ]
  },
  {
   "cell_type": "code",
   "execution_count": null,
   "metadata": {},
   "outputs": [],
   "source": [
    "import seaborn as sns\n",
    "# clf = SVC(kernel = 'linear').fit(x_train,y_train)\n",
    "# clf.predict(x_train)\n",
    "# y_pred = clf.predict(x_test)\n",
    "\n",
    "# Creates a confusion matrix\n",
    "cm = confusion_matrix(y_test.argmax(axis = 1), predictions.argmax(axis = 1)) \n",
    "\n",
    "# Transform to df for easier plotting\n",
    "cm_df = pd.DataFrame(cm,\n",
    "                     index = ['1', '2', '3', '4', '5'], \n",
    "                     columns = ['1', '2', '3', '4', '5'])\n",
    "\n",
    "plt.figure(figsize=(5.5,4))\n",
    "sns.heatmap(cm_df, annot=True, fmt = 'g', cmap = 'Blues')\n",
    "# plt.title('SVM Linear Kernel \\nAccuracy:{0:.3f}'.format(model.evaluate(X_test, y_test, verbose=False)))\n",
    "# plt.title(\"Training Accuracy: {:.4f}\".format(accuracy_trn) + \"\\n Testing Accuracy:  {:.4f}\".format(accuracy_test))\n",
    "plt.title(\"CNN with Word Embedding\")\n",
    "plt.ylabel('True label')\n",
    "plt.xlabel('Predicted label')\n",
    "# plt.ticklabel_format(style = 'plain', axis = 'y', useOffset = False)\n",
    "plt.show()\n",
    "\n",
    "loss, accuracy = model.evaluate(X_train, y_train, verbose=False)\n",
    "print(\"Training Accuracy: {:.4f}\".format(accuracy))\n",
    "loss, accuracy = model.evaluate(X_test, y_test, verbose=False)\n",
    "print(\"Testing Accuracy:  {:.4f}\".format(accuracy))"
   ]
  },
  {
   "cell_type": "code",
   "execution_count": null,
   "metadata": {},
   "outputs": [],
   "source": [
    "from keras import backend as K\n",
    "\n",
    "def recall_m(y_test, predictions):\n",
    "    true_positives = K.sum(K.round(K.clip(y_test * predictions, 0, 1)))\n",
    "    possible_positives = K.sum(K.round(K.clip(y_true, 0, 1)))\n",
    "    recall = true_positives / (possible_positives + K.epsilon())\n",
    "    return recall\n",
    "\n",
    "def precision_m(y_true, y_pred):\n",
    "    true_positives = K.sum(K.round(K.clip(y_test * predictions, 0, 1)))\n",
    "    predicted_positives = K.sum(K.round(K.clip(predictions, 0, 1)))\n",
    "    precision = true_positives / (predicted_positives + K.epsilon())\n",
    "    return precision\n",
    "\n",
    "def f1_m(y_test, predictions):\n",
    "    precision = precision_m(y_test, predictions)\n",
    "    recall = recall_m(y_test, predictions)\n",
    "    return 2*((precision*recall)/(precision+recall+K.epsilon()))"
   ]
  },
  {
   "cell_type": "code",
   "execution_count": null,
   "metadata": {},
   "outputs": [],
   "source": [
    "from sklearn.metrics import classification_report\n",
    "\n",
    "y_test_norm = y_test.argmax(axis = 1)\n",
    "y_test_norm\n",
    "\n",
    "predictions = model.predict(X_test, batch_size = 64, verbose = 1)\n",
    "y_pred = np.argmax(predictions, axis = 1)\n",
    "y_pred\n",
    "\n",
    "print(classification_report(y_test_norm, y_pred))"
   ]
  },
  {
   "cell_type": "code",
   "execution_count": null,
   "metadata": {},
   "outputs": [],
   "source": [
    "pred_stars = predictions.argmax(axis = 1).tolist()\n",
    "pred_stars = [x+1 for x in pred_stars]\n",
    "pred_stars[0:4]"
   ]
  },
  {
   "cell_type": "code",
   "execution_count": null,
   "metadata": {},
   "outputs": [],
   "source": [
    "test_indexes = sentences_test.index\n",
    "# sample.iloc[test_indexes]\n",
    "# sample.iloc[[5441],:]"
   ]
  },
  {
   "cell_type": "code",
   "execution_count": null,
   "metadata": {},
   "outputs": [],
   "source": [
    "pd.options.display.max_colwidth = 100\n",
    "\n",
    "sample_df_test = sample.loc[test_indexes]\n",
    "sample_df_test['pred_stars'] = pred_stars\n",
    "\n",
    "sample_df_test['diff_pred'] = abs(sample_df_test['pred_stars'] - pd.to_numeric(sample_df_test.overall))\n",
    "\n",
    "sample_df_test = sample_df_test.sort_values(by = ['diff_pred'], ascending = False)\n",
    "\n",
    "sample_df_test = sample_df_test.filter(['overall', 'reviewText', 'tokens', 'pred_stars', 'diff_pred'])\n",
    "sample_df_test.head(10)"
   ]
  },
  {
   "cell_type": "code",
   "execution_count": null,
   "metadata": {},
   "outputs": [],
   "source": [
    "sample_df_test.groupby(['diff_pred']).size()"
   ]
  },
  {
   "cell_type": "markdown",
   "metadata": {},
   "source": [
    "## Pretrained gLOVE model Method 1"
   ]
  },
  {
   "cell_type": "code",
   "execution_count": null,
   "metadata": {},
   "outputs": [],
   "source": [
    "import numpy as np\n",
    "\n",
    "def create_embedding_matrix(filepath, word_index, embedding_dim):\n",
    "    vocab_size = len(word_index) + 1  # Adding again 1 because of reserved 0 index\n",
    "    embedding_matrix = np.zeros((vocab_size, embedding_dim))\n",
    "\n",
    "    with open(filepath, encoding = \"utf8\") as f:\n",
    "        for line in f:\n",
    "            word, *vector = line.split()\n",
    "            if word in word_index:\n",
    "                idx = word_index[word] \n",
    "                embedding_matrix[idx] = np.array(\n",
    "                    vector, dtype=np.float32)[:embedding_dim]\n",
    "\n",
    "    return embedding_matrix"
   ]
  },
  {
   "cell_type": "code",
   "execution_count": null,
   "metadata": {},
   "outputs": [],
   "source": [
    "os.chdir('C:\\My_Files\\Analytics\\Amazon_reviews\\glove_6B')\n",
    "\n",
    "\n",
    "embedding_dim = 50\n",
    "embedding_matrix = create_embedding_matrix('glove.6B.50d.txt',\n",
    "    tokenizer.word_index, embedding_dim)\n"
   ]
  },
  {
   "cell_type": "code",
   "execution_count": null,
   "metadata": {},
   "outputs": [],
   "source": [
    "nonzero_elements = np.count_nonzero(np.count_nonzero(embedding_matrix, axis=1))\n",
    "nonzero_elements / vocab_size"
   ]
  },
  {
   "cell_type": "code",
   "execution_count": null,
   "metadata": {},
   "outputs": [],
   "source": [
    "model = Sequential()\n",
    "model.add(layers.Embedding(vocab_size, embedding_dim, \n",
    "                           weights=[embedding_matrix], \n",
    "                           input_length=maxlen, \n",
    "                           trainable=True))\n",
    "model.add(layers.GlobalMaxPool1D())\n",
    "model.add(layers.Dense(10, activation='relu'))\n",
    "model.add(layers.Dense(5, activation='softmax'))\n",
    "model.compile(optimizer='adam',\n",
    "              loss='categorical_crossentropy',\n",
    "              metrics=['accuracy'])\n",
    "model.summary()"
   ]
  },
  {
   "cell_type": "code",
   "execution_count": null,
   "metadata": {},
   "outputs": [],
   "source": [
    "start_time = datetime.now()\n",
    "\n",
    "nn_glove = model.fit(X_train, y_train,\n",
    "                    epochs=20,\n",
    "                    verbose=False,\n",
    "                    validation_data=(X_test, y_test),\n",
    "                    batch_size=10)\n",
    "\n",
    "end_time = datetime.now()\n",
    "print('Duration: {}'.format(end_time - start_time)) #print out how long it took for model to train\n"
   ]
  },
  {
   "cell_type": "code",
   "execution_count": null,
   "metadata": {},
   "outputs": [],
   "source": [
    "os.chdir('C:\\My_Files\\Analytics\\Amazon_reviews\\pickles')\n",
    "\n",
    "joblib.dump(nn_glove, \"nn_glove.pkl\")"
   ]
  },
  {
   "cell_type": "code",
   "execution_count": null,
   "metadata": {},
   "outputs": [],
   "source": [
    "# os.chdir('C:\\My_Files\\Analytics\\Amazon_reviews\\pickles')\n",
    "# nn_glove = joblib.load(\"nn_glove.pkl\")"
   ]
  },
  {
   "cell_type": "code",
   "execution_count": null,
   "metadata": {},
   "outputs": [],
   "source": [
    "loss, accuracy = model.evaluate(X_train, y_train, verbose=False)\n",
    "print(\"Training Accuracy: {:.4f}\".format(accuracy))\n",
    "loss, accuracy = model.evaluate(X_test, y_test, verbose=False)\n",
    "print(\"Testing Accuracy:  {:.4f}\".format(accuracy))"
   ]
  },
  {
   "cell_type": "code",
   "execution_count": null,
   "metadata": {},
   "outputs": [],
   "source": [
    "plot_history(nn_glove)"
   ]
  },
  {
   "cell_type": "code",
   "execution_count": null,
   "metadata": {},
   "outputs": [],
   "source": [
    "from sklearn.metrics import confusion_matrix\n",
    "\n",
    "predictions = model.predict(X_test)\n",
    "# y_pred = (predictions > 0.5)\n",
    "\n",
    "# confusion_matrix(y_test, y_pred)\n",
    "\n",
    "matrix = confusion_matrix(y_test.argmax(axis = 1), predictions.argmax(axis = 1))\n",
    "matrix"
   ]
  },
  {
   "cell_type": "code",
   "execution_count": null,
   "metadata": {},
   "outputs": [],
   "source": [
    "import seaborn as sns\n",
    "# clf = SVC(kernel = 'linear').fit(x_train,y_train)\n",
    "# clf.predict(x_train)\n",
    "# y_pred = clf.predict(x_test)\n",
    "\n",
    "# Creates a confusion matrix\n",
    "cm = confusion_matrix(y_test.argmax(axis = 1), predictions.argmax(axis = 1)) \n",
    "\n",
    "# Transform to df for easier plotting\n",
    "cm_df = pd.DataFrame(cm,\n",
    "                     index = ['1', '2', '3', '4', '5'], \n",
    "                     columns = ['1', '2', '3', '4', '5'])\n",
    "\n",
    "plt.figure(figsize=(5.5,4))\n",
    "sns.heatmap(cm_df, annot=True, fmt = 'g', cmap = 'Blues')\n",
    "# plt.title('SVM Linear Kernel \\nAccuracy:{0:.3f}'.format(model.evaluate(X_test, y_test, verbose=False)))\n",
    "# plt.title(\"Training Accuracy: {:.4f}\".format(accuracy_trn) + \"\\n Testing Accuracy:  {:.4f}\".format(accuracy_test))\n",
    "plt.title(\"NN with Pre-Trained Word Embedding\")\n",
    "plt.ylabel('True label')\n",
    "plt.xlabel('Predicted label')\n",
    "# plt.ticklabel_format(style = 'plain', axis = 'y', useOffset = False)\n",
    "plt.show()\n",
    "\n",
    "loss, accuracy = model.evaluate(X_train, y_train, verbose=False)\n",
    "print(\"Training Accuracy: {:.4f}\".format(accuracy))\n",
    "loss, accuracy = model.evaluate(X_test, y_test, verbose=False)\n",
    "print(\"Testing Accuracy:  {:.4f}\".format(accuracy))"
   ]
  },
  {
   "cell_type": "code",
   "execution_count": null,
   "metadata": {},
   "outputs": [],
   "source": [
    "from sklearn.metrics import classification_report\n",
    "\n",
    "y_test_norm = y_test.argmax(axis = 1)\n",
    "y_test_norm\n",
    "\n",
    "predictions = model.predict(X_test, batch_size = 64, verbose = 1)\n",
    "y_pred = np.argmax(predictions, axis = 1)\n",
    "y_pred\n",
    "\n",
    "print(classification_report(y_test_norm, y_pred))"
   ]
  },
  {
   "cell_type": "code",
   "execution_count": null,
   "metadata": {},
   "outputs": [],
   "source": [
    "pred_stars = predictions.argmax(axis = 1).tolist()\n",
    "pred_stars = [x+1 for x in pred_stars]\n",
    "pred_stars[0:4]"
   ]
  },
  {
   "cell_type": "code",
   "execution_count": null,
   "metadata": {},
   "outputs": [],
   "source": [
    "test_indexes = sentences_test.index\n",
    "# sample.iloc[test_indexes]\n",
    "# sample.iloc[[5441],:]"
   ]
  },
  {
   "cell_type": "code",
   "execution_count": null,
   "metadata": {},
   "outputs": [],
   "source": [
    "pd.options.display.max_colwidth = 100\n",
    "\n",
    "sample_df_test = sample.loc[test_indexes]\n",
    "sample_df_test['pred_stars'] = pred_stars\n",
    "\n",
    "sample_df_test['diff_pred'] = abs(sample_df_test['pred_stars'] - pd.to_numeric(sample_df_test.overall))\n",
    "\n",
    "sample_df_test = sample_df_test.sort_values(by = ['diff_pred'], ascending = False)\n",
    "\n",
    "sample_df_test = sample_df_test.filter(['overall', 'reviewText', 'tokens', 'pred_stars', 'diff_pred'])\n",
    "sample_df_test.head(10)"
   ]
  },
  {
   "cell_type": "code",
   "execution_count": null,
   "metadata": {},
   "outputs": [],
   "source": [
    "sample_df_test.groupby(['diff_pred']).size()"
   ]
  },
  {
   "cell_type": "markdown",
   "metadata": {},
   "source": [
    "### CNN with Pre-trained Embeddings"
   ]
  },
  {
   "cell_type": "code",
   "execution_count": null,
   "metadata": {},
   "outputs": [],
   "source": [
    "from keras import optimizers\n",
    "\n",
    "# embedding_dim = 50\n",
    "\n",
    "# model = Sequential()\n",
    "# model.add(layers.Embedding(vocab_size, embedding_dim, input_length=maxlen,\n",
    "#                           weights = [embedding_matrix],\n",
    "#                           trainable = True))\n",
    "# model.add(layers.Conv1D(128, 5, activation='relu'))\n",
    "# model.add(layers.GlobalMaxPooling1D())\n",
    "# model.add(layers.Dense(10, activation='relu'))\n",
    "# model.add(layers.Dense(5, activation='softmax'))\n",
    "# model.compile(optimizer='adam',\n",
    "#               loss='categorical_crossentropy',\n",
    "#               metrics=['accuracy'])\n",
    "# model.summary()\n",
    "\n",
    "\n",
    "embedding_dim = 50\n",
    "\n",
    "model = Sequential()\n",
    "model.add(layers.Embedding(vocab_size, embedding_dim, input_length=maxlen,\n",
    "                          weights = [embedding_matrix],\n",
    "                          trainable = True))\n",
    "model.add(layers.Conv1D(128, 5, activation= 'softmax'))\n",
    "model.add(layers.GlobalMaxPooling1D())\n",
    "model.add(layers.Dense(15, activation='relu'))\n",
    "model.add(layers.Dropout(0.2))\n",
    "model.add(layers.Dense(5, activation='softmax'))\n",
    "optimizer = optimizers.Adam(learning_rate = 0.01)\n",
    "model.compile(optimizer = 'adam',\n",
    "            loss='categorical_crossentropy',\n",
    "            metrics=['accuracy'])\n",
    "model.summary()\n"
   ]
  },
  {
   "cell_type": "code",
   "execution_count": null,
   "metadata": {},
   "outputs": [],
   "source": [
    "start_time = datetime.now()\n",
    "\n",
    "cnn_glove = model.fit(X_train, y_train,\n",
    "                    epochs=20,\n",
    "                    verbose=False,\n",
    "                    validation_data=(X_test, y_test),\n",
    "                    batch_size=10)\n",
    "\n",
    "end_time = datetime.now()\n",
    "print('Duration: {}'.format(end_time - start_time)) #print out how long it took for model to train\n"
   ]
  },
  {
   "cell_type": "code",
   "execution_count": null,
   "metadata": {},
   "outputs": [],
   "source": [
    "os.chdir('C:\\My_Files\\Analytics\\Amazon_reviews\\pickles')\n",
    "\n",
    "joblib.dump(cnn_glove, \"cnn_glove.pkl\")"
   ]
  },
  {
   "cell_type": "code",
   "execution_count": null,
   "metadata": {},
   "outputs": [],
   "source": [
    "# os.chdir('C:\\My_Files\\Analytics\\Amazon_reviews\\pickles')\n",
    "# cnn_glove = joblib.load(\"cnn_bow.pkl\")"
   ]
  },
  {
   "cell_type": "code",
   "execution_count": null,
   "metadata": {},
   "outputs": [],
   "source": [
    "loss, accuracy = model.evaluate(X_train, y_train, verbose=False)\n",
    "print(\"Training Accuracy: {:.4f}\".format(accuracy))\n",
    "loss, accuracy = model.evaluate(X_test, y_test, verbose=False)\n",
    "print(\"Testing Accuracy:  {:.4f}\".format(accuracy))"
   ]
  },
  {
   "cell_type": "code",
   "execution_count": null,
   "metadata": {},
   "outputs": [],
   "source": [
    "plot_history(cnn_glove)"
   ]
  },
  {
   "cell_type": "code",
   "execution_count": null,
   "metadata": {},
   "outputs": [],
   "source": [
    "from sklearn.metrics import confusion_matrix\n",
    "\n",
    "predictions = model.predict(X_test)\n",
    "# y_pred = (predictions > 0.5)\n",
    "\n",
    "# confusion_matrix(y_test, y_pred)\n",
    "\n",
    "matrix = confusion_matrix(y_test.argmax(axis = 1), predictions.argmax(axis = 1))\n",
    "matrix"
   ]
  },
  {
   "cell_type": "code",
   "execution_count": null,
   "metadata": {},
   "outputs": [],
   "source": [
    "import seaborn as sns\n",
    "# clf = SVC(kernel = 'linear').fit(x_train,y_train)\n",
    "# clf.predict(x_train)\n",
    "# y_pred = clf.predict(x_test)\n",
    "\n",
    "# Creates a confusion matrix\n",
    "cm = confusion_matrix(y_test.argmax(axis = 1), predictions.argmax(axis = 1)) \n",
    "\n",
    "# Transform to df for easier plotting\n",
    "cm_df = pd.DataFrame(cm,\n",
    "                     index = ['1', '2', '3', '4', '5'], \n",
    "                     columns = ['1', '2', '3', '4', '5'])\n",
    "\n",
    "plt.figure(figsize=(5.5,4))\n",
    "sns.heatmap(cm_df, annot=True, fmt = 'g', cmap = 'Blues')\n",
    "# plt.title('SVM Linear Kernel \\nAccuracy:{0:.3f}'.format(model.evaluate(X_test, y_test, verbose=False)))\n",
    "# plt.title(\"Training Accuracy: {:.4f}\".format(accuracy_trn) + \"\\n Testing Accuracy:  {:.4f}\".format(accuracy_test))\n",
    "plt.title(\"CNN with Pre-Trained Embedding\")\n",
    "plt.ylabel('True label')\n",
    "plt.xlabel('Predicted label')\n",
    "# plt.ticklabel_format(style = 'plain', axis = 'y', useOffset = False)\n",
    "plt.show()\n",
    "\n",
    "loss, accuracy = model.evaluate(X_train, y_train, verbose=False)\n",
    "print(\"Training Accuracy: {:.4f}\".format(accuracy))\n",
    "loss, accuracy = model.evaluate(X_test, y_test, verbose=False)\n",
    "print(\"Testing Accuracy:  {:.4f}\".format(accuracy))"
   ]
  },
  {
   "cell_type": "code",
   "execution_count": null,
   "metadata": {},
   "outputs": [],
   "source": [
    "from sklearn.metrics import classification_report\n",
    "\n",
    "y_test_norm = y_test.argmax(axis = 1)\n",
    "y_test_norm\n",
    "\n",
    "predictions = model.predict(X_test, batch_size = 64, verbose = 1)\n",
    "y_pred = np.argmax(predictions, axis = 1)\n",
    "y_pred\n",
    "\n",
    "print(classification_report(y_test_norm, y_pred))"
   ]
  },
  {
   "cell_type": "code",
   "execution_count": null,
   "metadata": {},
   "outputs": [],
   "source": [
    "pred_stars = predictions.argmax(axis = 1).tolist()\n",
    "pred_stars = [x+1 for x in pred_stars]\n",
    "pred_stars[0:4]"
   ]
  },
  {
   "cell_type": "code",
   "execution_count": null,
   "metadata": {},
   "outputs": [],
   "source": [
    "test_indexes = sentences_test.index\n",
    "# sample.iloc[test_indexes]\n",
    "# sample.iloc[[5441],:]"
   ]
  },
  {
   "cell_type": "code",
   "execution_count": null,
   "metadata": {},
   "outputs": [],
   "source": [
    "pd.options.display.max_colwidth = 100\n",
    "\n",
    "sample_df_test = sample.loc[test_indexes]\n",
    "sample_df_test['pred_stars'] = pred_stars\n",
    "\n",
    "sample_df_test['diff_pred'] = abs(sample_df_test['pred_stars'] - pd.to_numeric(sample_df_test.overall))\n",
    "\n",
    "sample_df_test = sample_df_test.sort_values(by = ['diff_pred'], ascending = False)\n",
    "\n",
    "sample_df_test = sample_df_test.filter(['overall', 'reviewText', 'tokens', 'pred_stars', 'diff_pred'])\n",
    "sample_df_test.head(10)"
   ]
  },
  {
   "cell_type": "code",
   "execution_count": null,
   "metadata": {},
   "outputs": [],
   "source": [
    "sample_df_test.groupby(['diff_pred']).size()"
   ]
  },
  {
   "cell_type": "markdown",
   "metadata": {},
   "source": [
    "https://machinelearningmastery.com/use-word-embedding-layers-deep-learning-keras/"
   ]
  },
  {
   "cell_type": "markdown",
   "metadata": {},
   "source": [
    "## Hyperparamaterization"
   ]
  },
  {
   "cell_type": "markdown",
   "metadata": {},
   "source": [
    "Below, I used the GridSeach method for testing out various parameter combinations that would optimized performance. To limit the time needed for training on all parameter combinations, gridsearch was only performed on a sample dataset of 1000 records. The code below was tested in a separate notebook with a smaller dataframe sample size. The parameters I chose in my CNN model above were based on the results from the GridSearch"
   ]
  },
  {
   "cell_type": "markdown",
   "metadata": {},
   "source": [
    "First, I set the parameter values I wanted to test"
   ]
  },
  {
   "cell_type": "code",
   "execution_count": null,
   "metadata": {},
   "outputs": [],
   "source": [
    "learning_rate = [0.001, 0.01, 0.1]\n",
    "dropout_rate = [0.0, 0.2, 0.4, 0.6]\n",
    "activation = ['relu', 'softmax']\n",
    "neurons = [2, 5, 10, 15]"
   ]
  },
  {
   "cell_type": "markdown",
   "metadata": {},
   "source": [
    "Then, I created a function that tests for each of these specified parameters, and printed out the optimal combination. I ended up choosing the "
   ]
  },
  {
   "cell_type": "code",
   "execution_count": null,
   "metadata": {},
   "outputs": [],
   "source": [
    "from keras import optimizers\n",
    "from keras.wrappers.scikit_learn import KerasClassifier\n",
    "\n",
    "\n",
    "start_time = datetime.now()\n",
    "\n",
    "from sklearn.model_selection import GridSearchCV\n",
    "from sklearn.model_selection import StratifiedKFold\n",
    "# Create the parameter grid based on the results of random search \n",
    "    \n",
    "param_grid = {\n",
    "    'learning_rate': learning_rate,\n",
    "    'dropout_rate': dropout_rate,\n",
    "    'activation': activation,\n",
    "    'neurons': neurons\n",
    "}\n",
    "\n",
    "\n",
    "def create_model(dropout_rate = 0.0, learning_rate = 0, neurons = 2, activation = 'relu'):\n",
    "    embedding_dim = 50\n",
    "\n",
    "    model = Sequential()\n",
    "    model.add(layers.Embedding(vocab_size, embedding_dim, input_length=maxlen,\n",
    "                              weights = [embedding_matrix],\n",
    "                              trainable = True))\n",
    "    model.add(layers.Conv1D(128, 5, activation= 'relu'))\n",
    "    model.add(layers.GlobalMaxPooling1D())\n",
    "    model.add(layers.Dense(neurons, activation='relu'))\n",
    "    model.add(layers.Dropout(dropout_rate))\n",
    "    model.add(layers.Dense(5, activation='softmax'))\n",
    "    optimizer = optimizers.Adam(learning_rate = learning_rate)\n",
    "    model.compile(optimizer = 'adam',\n",
    "                loss='categorical_crossentropy',\n",
    "                metrics=['accuracy'])\n",
    "#     model.summary()\n",
    "    return model\n",
    "\n",
    "seed = 7\n",
    "np.random.seed(seed)\n",
    "\n",
    "model = KerasClassifier(build_fn= create_model, epochs = 5, batch_size = 10, verbose = 0)\n",
    "\n",
    "# Instantiate the grid search model\n",
    "grid_search = GridSearchCV(estimator = model, param_grid = param_grid, \n",
    "                          cv = 3 \n",
    "#                            n_jobs = -1\n",
    "                          )\n",
    "\n",
    "\n",
    "grid_result = grid_search.fit(X_train, y_train)\n",
    "\n",
    "print(\"Best: %f using %s\" % (grid_result.best_score_, grid_result.best_params_))\n",
    "means = grid_result.cv_results_['mean_test_score']\n",
    "stds = grid_result.cv_results_['std_test_score']\n",
    "params = grid_result.cv_results_['params']\n",
    "for mean, stdev, param in zip(means, stds, params):\n",
    "    print(\"%f (%f) with: %r\" % (mean, stdev, param))\n",
    "\n",
    "\n",
    "end_time = datetime.now()\n",
    "print('Duration: {}'.format(end_time - start_time)) #print out how long it took for model to train"
   ]
  },
  {
   "cell_type": "markdown",
   "metadata": {},
   "source": [
    "I then created a dataframe of all the gridsearch results. I ended up choosing the parameter combination with one of the highest mean scores from cross-fold validation, and also the smalled standard deviation of accuracy."
   ]
  },
  {
   "cell_type": "code",
   "execution_count": null,
   "metadata": {},
   "outputs": [],
   "source": [
    "result_mean_scores = grid_result.cv_results_['mean_test_score']\n",
    "result_std_scores = grid_result.cv_results_['std_test_score']\n",
    "result_params = grid_result.cv_results_['params']\n",
    "grid_results_df = pd.DataFrame(zip(result_params, result_mean_scores, result_std_scores), columns = ['Params', 'Mean_Score', 'Std_Score'])\n",
    "grid_results_df.sort_values(by = ['Mean_Score'], ascending = False).head(20).reset_index(drop = True)"
   ]
  },
  {
   "cell_type": "code",
   "execution_count": null,
   "metadata": {},
   "outputs": [],
   "source": [
    "grid_result = grid_search.fit(X_train, y_train)\n",
    "\n",
    "print(\"Best: %f using %s\" % (grid_result.best_score_, grid_result.best_params_))\n",
    "means = grid_result.cv_results_['mean_test_score']\n",
    "stds = grid_result.cv_results_['std_test_score']\n",
    "params = grid_result.cv_results_['params']\n",
    "for mean, stdev, param in zip(means, stds, params):\n",
    "    print(\"%f (%f) with: %r\" % (mean, stdev, param))"
   ]
  }
 ],
 "metadata": {
  "kernelspec": {
   "display_name": "Python 3",
   "language": "python",
   "name": "python3"
  },
  "language_info": {
   "codemirror_mode": {
    "name": "ipython",
    "version": 3
   },
   "file_extension": ".py",
   "mimetype": "text/x-python",
   "name": "python",
   "nbconvert_exporter": "python",
   "pygments_lexer": "ipython3",
   "version": "3.7.6"
  }
 },
 "nbformat": 4,
 "nbformat_minor": 4
}
